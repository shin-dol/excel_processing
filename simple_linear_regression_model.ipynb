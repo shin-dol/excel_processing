{
  "nbformat": 4,
  "nbformat_minor": 0,
  "metadata": {
    "colab": {
      "name": "Untitled",
      "private_outputs": true,
      "provenance": [],
      "authorship_tag": "ABX9TyMFxnTz3qsuUiJtt6jTZRY9",
      "include_colab_link": true
    },
    "kernelspec": {
      "name": "python3",
      "display_name": "Python 3"
    },
    "language_info": {
      "name": "python"
    }
  },
  "cells": [
    {
      "cell_type": "markdown",
      "metadata": {
        "id": "view-in-github",
        "colab_type": "text"
      },
      "source": [
        "<a href=\"https://colab.research.google.com/github/sschaos/excel_processing/blob/main/simple_linear_regression_model.ipynb\" target=\"_parent\"><img src=\"https://colab.research.google.com/assets/colab-badge.svg\" alt=\"Open In Colab\"/></a>"
      ]
    },
    {
      "cell_type": "code",
      "metadata": {
        "id": "hLRAwpJKSj-e"
      },
      "source": [
        "import os\n",
        "import pandas as pd\n",
        "import numpy as np\n",
        "import statsmodels.api as sm"
      ],
      "execution_count": null,
      "outputs": []
    },
    {
      "cell_type": "code",
      "metadata": {
        "id": "x8wLhvjlMoMA"
      },
      "source": [
        "os.getcwd()"
      ],
      "execution_count": null,
      "outputs": []
    },
    {
      "cell_type": "code",
      "metadata": {
        "id": "9NrBcxoGMr88"
      },
      "source": [
        "from google.colab import files"
      ],
      "execution_count": null,
      "outputs": []
    },
    {
      "cell_type": "code",
      "metadata": {
        "id": "DagvVekwNDdF"
      },
      "source": [
        "myfile = files.upload()"
      ],
      "execution_count": null,
      "outputs": []
    },
    {
      "cell_type": "code",
      "metadata": {
        "id": "uCnY_fKINLdk"
      },
      "source": [
        "import io\n",
        "data = pd.read_csv(io.BytesIO(myfile['Boston_house.csv']))"
      ],
      "execution_count": null,
      "outputs": []
    },
    {
      "cell_type": "code",
      "metadata": {
        "id": "1hvSkQ1VNKPD"
      },
      "source": [
        "data.head()\n",
        "boston_data = data.drop(['Target'],axis=1)"
      ],
      "execution_count": null,
      "outputs": []
    },
    {
      "cell_type": "code",
      "metadata": {
        "id": "1SHcG_tiNl3M"
      },
      "source": [
        "boston_data.describe()"
      ],
      "execution_count": null,
      "outputs": []
    },
    {
      "cell_type": "code",
      "metadata": {
        "id": "qnWJzASANpRz"
      },
      "source": [
        "target = data[['Target']]\n",
        "crim = data[['CRIM']]\n",
        "rm = data[['RM']]\n",
        "lstat = data[['LSTAT']]"
      ],
      "execution_count": null,
      "outputs": []
    },
    {
      "cell_type": "code",
      "metadata": {
        "id": "2sM1v9hMOJKN"
      },
      "source": [
        "#crim 변수에 상수항 추가하기 (선형회귀 분석이기 때문에 상수항을 추가)\n",
        "crim1 = sm.add_constant(crim, has_constant=\"add\")"
      ],
      "execution_count": null,
      "outputs": []
    },
    {
      "cell_type": "code",
      "metadata": {
        "id": "TYTRkffAOrj8"
      },
      "source": [
        "#sm.OLS적합시키기\n",
        "model1 = sm.OLS(target, crim1)\n",
        "fitted_model1 = model1.fit()"
      ],
      "execution_count": null,
      "outputs": []
    },
    {
      "cell_type": "code",
      "metadata": {
        "id": "w9PkexEOO91j"
      },
      "source": [
        "fitted_model1.summary()"
      ],
      "execution_count": null,
      "outputs": []
    },
    {
      "cell_type": "code",
      "metadata": {
        "id": "8bxK5PX8PP5w"
      },
      "source": [
        "##회귀 계수 출력\n",
        "fitted_model1.params"
      ],
      "execution_count": null,
      "outputs": []
    },
    {
      "cell_type": "code",
      "metadata": {
        "id": "nsA6lQu9PZBU"
      },
      "source": [
        "#회귀 계수 x 데이터(X)\n",
        "np.dot(crim1, fitted_model1.params)"
      ],
      "execution_count": null,
      "outputs": []
    },
    {
      "cell_type": "code",
      "metadata": {
        "id": "q_R2IrZhPlXk"
      },
      "source": [
        "#predict함수를 통해 yhat구하기\n",
        "pred1 = fitted_model1.predict(crim1)"
      ],
      "execution_count": null,
      "outputs": []
    },
    {
      "cell_type": "code",
      "metadata": {
        "id": "KGLIw3JQPqsz"
      },
      "source": [
        "##직접구한 yhat과 predict함수의 차이\n",
        "np.dot(crim1, fitted_model1.params) - pred1"
      ],
      "execution_count": null,
      "outputs": []
    },
    {
      "cell_type": "code",
      "metadata": {
        "id": "QfUvQqo9Pzfq"
      },
      "source": [
        "import matplotlib.pyplot as plt\n",
        "plt.yticks(fontname='Arial')\n",
        "plt.scatter(crim, target)\n",
        "plt.plot(crim, pred1)\n",
        "plt.legend()\n",
        "plt.show()"
      ],
      "execution_count": null,
      "outputs": []
    },
    {
      "cell_type": "code",
      "metadata": {
        "id": "FDOpBPcqQLfO"
      },
      "source": [
        "fitted_model1.resid.plot()\n",
        "plt.show()"
      ],
      "execution_count": null,
      "outputs": []
    },
    {
      "cell_type": "code",
      "metadata": {
        "id": "l1k70m4hQVHb"
      },
      "source": [
        "np.sum(fitted_model1.resid)"
      ],
      "execution_count": null,
      "outputs": []
    },
    {
      "cell_type": "code",
      "metadata": {
        "id": "EFbqTDAvQXrA"
      },
      "source": [
        "rm1 = sm.add_constant(rm, has_constant=\"add\")\n",
        "lstat1 = sm.add_constant(lstat, has_constant=\"add\")\n",
        "\n",
        "model2 = sm.OLS(target, rm1)\n",
        "fitted_model2 = model2.fit()\n",
        "\n",
        "model3 = sm.OLS(target, lstat1)\n",
        "fitted_model3 = model3.fit()"
      ],
      "execution_count": null,
      "outputs": []
    },
    {
      "cell_type": "code",
      "metadata": {
        "id": "YQ7ESxZoQyi0"
      },
      "source": [
        "pred2 = fitted_model2.predict(rm1)\n",
        "np.dot(rm1, fitted_model2.params) - pred2"
      ],
      "execution_count": null,
      "outputs": []
    },
    {
      "cell_type": "code",
      "metadata": {
        "id": "KXQiGxZrRGGP"
      },
      "source": [
        "fitted_model2.summary()"
      ],
      "execution_count": null,
      "outputs": []
    },
    {
      "cell_type": "code",
      "metadata": {
        "id": "bd9jblv8RHvg"
      },
      "source": [
        "print(rm1)"
      ],
      "execution_count": null,
      "outputs": []
    },
    {
      "cell_type": "markdown",
      "metadata": {
        "id": "pcmo3lYLR8dN"
      },
      "source": [
        "# 새 섹션"
      ]
    }
  ]
}