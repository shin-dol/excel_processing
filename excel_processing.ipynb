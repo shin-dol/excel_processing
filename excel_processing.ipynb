{
  "nbformat": 4,
  "nbformat_minor": 0,
  "metadata": {
    "colab": {
      "name": "excel_processing.ipynb",
      "private_outputs": true,
      "provenance": [],
      "collapsed_sections": [],
      "authorship_tag": "ABX9TyO3htnjY6MIAh2iou1M5G17",
      "include_colab_link": true
    },
    "kernelspec": {
      "name": "python3",
      "display_name": "Python 3"
    },
    "language_info": {
      "name": "python"
    }
  },
  "cells": [
    {
      "cell_type": "markdown",
      "metadata": {
        "id": "view-in-github",
        "colab_type": "text"
      },
      "source": [
        "<a href=\"https://colab.research.google.com/github/sschaos/excel_processing/blob/main/excel_processing.ipynb\" target=\"_parent\"><img src=\"https://colab.research.google.com/assets/colab-badge.svg\" alt=\"Open In Colab\"/></a>"
      ]
    },
    {
      "cell_type": "code",
      "metadata": {
        "id": "WpShcjDrkBEy"
      },
      "source": [
        "!pip install selenium\n",
        "!pip install pyperclip\n",
        "!pip install gtk\n",
        "!pip install PyQt4\n",
        "!apt-get update\n",
        "!apt install chromium-chromedriver\n",
        "!apt-get install xclip\n",
        "!apt-get install xsel\n",
        "from selenium import webdriver\n",
        "from selenium.webdriver.common.keys import Keys\n",
        "import pyperclip"
      ],
      "execution_count": null,
      "outputs": []
    },
    {
      "cell_type": "code",
      "metadata": {
        "id": "dbhQ7sRTnn95"
      },
      "source": [
        "# Chrome 웹 드라이버 생성\n",
        "chrome_options = webdriver.ChromeOptions()\n",
        "# 비디오 카드와 모니터가없는 서버에서 실행되므로 항상 --headless 를 사용해야합니다\n",
        "chrome_options.add_argument('--headless')\n",
        "chrome_options.add_argument('--no-sandbox')\n",
        "chrome_options.add_argument('--disable-dev-shm-usage')\n",
        "driver = webdriver.Chrome(\"chromedriver\", chrome_options=chrome_options)"
      ],
      "execution_count": null,
      "outputs": []
    },
    {
      "cell_type": "code",
      "metadata": {
        "id": "ID90utzFqC6E"
      },
      "source": [
        "#네이버 로그인 페이지 url\n",
        "url = \"https://nid.naver.com/nidlogin.login?url=https%3A%2F%2Fsmartstore.naver.com%2Fapexia\"\n",
        "# url 로딩\n",
        "driver.get(url)"
      ],
      "execution_count": null,
      "outputs": []
    },
    {
      "cell_type": "code",
      "metadata": {
        "id": "mZTmtBEkqwyZ"
      },
      "source": [
        "# 로그인 정보 입력\n",
        "uid='2016dladnjseks' #네이버 ID\n",
        "upw='dladnjseks1!' #패스워드\n",
        "\n",
        "tag_id = driver.find_element_by_name(\"id\")\n",
        "tag_pw = driver.find_element_by_name(\"pw\")\n",
        "\n",
        "#id 입력\n",
        "tag_id.click()\n",
        "pyperclip.copy(uid)\n",
        "tag_id.send_keys(Keys.CONTROL, 'v')\n",
        "time.sleep(1)\n",
        "\n",
        "#pw 입력\n",
        "tag_pw.click()\n",
        "pyperclip.copy(upw)\n",
        "tag_pw.send_keys(Keys.CONTROL, 'v')\n",
        "time.sleep(1)\n",
        "\n",
        "login_btn = driver.find_element_by_id('log.login')\n",
        "login_btn.click()\n",
        "time.sleep(2)\n"
      ],
      "execution_count": null,
      "outputs": []
    },
    {
      "cell_type": "code",
      "metadata": {
        "id": "_jNFNGc1rdyc"
      },
      "source": [
        ""
      ],
      "execution_count": null,
      "outputs": []
    }
  ]
}